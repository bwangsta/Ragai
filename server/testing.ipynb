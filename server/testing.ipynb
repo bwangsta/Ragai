{
 "cells": [
  {
   "cell_type": "code",
   "execution_count": null,
   "metadata": {},
   "outputs": [],
   "source": [
    "import os\n",
    "import numpy as np\n",
    "import pandas as pd \n",
    "import torchvision.transforms as T\n",
    "from pymongo import MongoClient\n",
    "from pymongo.server_api import ServerApi\n",
    "from src.embedding.hfdataset_processing import create_dict_from_image, create_hf_ds_from_dict, add_image_to_hf_dataset\n",
    "from dotenv import load_dotenv\n",
    "from datasets import Dataset\n",
    "from google.cloud import vision"
   ]
  },
  {
   "cell_type": "code",
   "execution_count": null,
   "metadata": {},
   "outputs": [],
   "source": [
    "os.environ['GOOGLE_APPLICATION_CREDENTIALS'] = r'third-apex-402521-e63d3fe1b50f.json'\n",
    "def get_tags_from_img(img_uri) -> vision.EntityAnnotation:\n",
    "\n",
    "    # Instantiates a client\n",
    "    client = vision.ImageAnnotatorClient()\n",
    "\n",
    "    image = vision.Image()\n",
    "    image.source.image_uri = img_uri \n",
    "\n",
    "    # Performs label detection on the image file\n",
    "    response = client.label_detection(image=image)\n",
    "    labels = response.label_annotations\n",
    "\n",
    "    print(\"Labels:\")\n",
    "    tags = []\n",
    "    for label in labels:\n",
    "        tags.append(label.description)\n",
    "    return tags\n",
    "\n",
    "get_tags_from_img(\"http://clothing-images.s3.us.cloud-object-storage.appdomain.cloud/BC7646B8-459E-4FF2-B465-DF041718ACDE.jpg\")\n"
   ]
  },
  {
   "cell_type": "code",
   "execution_count": null,
   "metadata": {},
   "outputs": [],
   "source": [
    "uri = os.environ[\"DB_URI\"]\n",
    "client = MongoClient(uri, server_api=ServerApi('1'))\n",
    "db = client.clothing\n",
    "collection = db.items\n",
    "import requests\n",
    "from PIL import Image\n",
    "from io import BytesIO\n",
    "\n",
    "# URL of the image\n",
    "\n",
    "test_brian_hf_dataset = Dataset.from_dict({})\n",
    "\n",
    "for item in collection.find():\n",
    "    image_url = item[\"image\"]\n",
    "    response = requests.get(image_url)\n",
    "    img_data = BytesIO(response.content)\n",
    "    # Open and display the image using PIL\n",
    "    img = Image.open(img_data)\n",
    "    brian_setup_dict = create_dict_from_image(img)\n",
    "    brian_setup_dict['image_url'] = [image_url]\n",
    "    brian_setup_hf_dataset = create_hf_ds_from_dict(brian_setup_dict)\n",
    "    test_brian_hf_dataset = add_image_to_hf_dataset(brian_setup_hf_dataset, test_brian_hf_dataset)\n",
    "\n",
    "test_brian_hf_dataset"
   ]
  },
  {
   "cell_type": "code",
   "execution_count": null,
   "metadata": {},
   "outputs": [],
   "source": [
    "print(test_brian_hf_dataset['image'][1])"
   ]
  },
  {
   "cell_type": "code",
   "execution_count": null,
   "metadata": {},
   "outputs": [],
   "source": [
    "from src.embedding.embedding import add_embeddings, extract_embeddings\n",
    "from transformers import AutoFeatureExtractor, AutoModel\n",
    "\n",
    "from constants import VISION_TRANSFORMER_CKPT, DEVICE\n",
    "extractor = AutoFeatureExtractor.from_pretrained(VISION_TRANSFORMER_CKPT)\n",
    "model = AutoModel.from_pretrained(VISION_TRANSFORMER_CKPT)\n",
    "hidden_dim = model.config.hidden_size\n",
    "extract_fn = extract_embeddings(model.to(DEVICE))\n",
    "test_brian_hf_dataset = add_embeddings(extract_fn, test_brian_hf_dataset)\n",
    "\n",
    "test_brian_hf_dataset"
   ]
  },
  {
   "cell_type": "code",
   "execution_count": null,
   "metadata": {},
   "outputs": [],
   "source": [
    "test_brian_hf_dataset[\"image\"][1]"
   ]
  },
  {
   "cell_type": "code",
   "execution_count": null,
   "metadata": {},
   "outputs": [],
   "source": [
    "from src.embedding.search import add_faiss_index_to_hfdataset, find_k_most_similar\n",
    "test_brian_hf_dataset = add_faiss_index_to_hfdataset(test_brian_hf_dataset)\n",
    "var = find_k_most_similar(test_brian_hf_dataset, 3)"
   ]
  },
  {
   "cell_type": "code",
   "execution_count": null,
   "metadata": {},
   "outputs": [],
   "source": [
    "var['image_url'][1:4]"
   ]
  },
  {
   "cell_type": "code",
   "execution_count": null,
   "metadata": {},
   "outputs": [],
   "source": [
    "image_url = 'https://media.gettyimages.com/id/102057102/photo/a-woman-spreads-out-a-towel-on-the-beach.jpg?s=612x612&w=gi&k=20&c=yRliyFhp-yR0Zfn9wKqb_Tcu_v8-Y_INXQ0t-5F-B6Q='\n",
    "\n",
    "# Download the image\n",
    "response = requests.get(image_url)\n",
    "img_data = BytesIO(response.content)\n",
    "\n",
    "# Open and display the image using PIL\n",
    "img = Image.open(img_data)\n",
    "towel_dict = create_dict_from_image(img)\n",
    "towel_dict['image_url'] = [image_url]\n",
    "towel_hf_dataset = create_hf_ds_from_dict(towel_dict)\n",
    "\n",
    "towel_hf_dataset = add_embeddings(extract_fn, towel_hf_dataset)\n",
    "new_dummy_hf_ds = add_image_to_hf_dataset(towel_hf_dataset,test_brian_hf_dataset)\n",
    "new_dummy_hf_ds = add_faiss_index_to_hfdataset(new_dummy_hf_ds)\n",
    "var = find_k_most_similar(test_brian_hf_dataset, 3)\n",
    "var['image_url'][1:4]"
   ]
  },
  {
   "cell_type": "code",
   "execution_count": null,
   "metadata": {},
   "outputs": [],
   "source": [
    "var[\"image\"][1:3]"
   ]
  }
 ],
 "metadata": {
  "kernelspec": {
   "display_name": "rammodel",
   "language": "python",
   "name": "python3"
  },
  "language_info": {
   "codemirror_mode": {
    "name": "ipython",
    "version": 3
   },
   "file_extension": ".py",
   "mimetype": "text/x-python",
   "name": "python",
   "nbconvert_exporter": "python",
   "pygments_lexer": "ipython3",
   "version": "3.11.0"
  },
  "orig_nbformat": 4
 },
 "nbformat": 4,
 "nbformat_minor": 2
}
